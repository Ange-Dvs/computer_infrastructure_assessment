{
 "cells": [
  {
   "cell_type": "markdown",
   "metadata": {},
   "source": [
    "# Weather.ipynb\n"
   ]
  },
  {
   "cell_type": "markdown",
   "metadata": {},
   "source": [
    "## Purpose\n",
    "***\n",
    "\n",
    "This notebook contains the tasks and analysis required for the Computer Infrastructure module.  \n",
    "Working with the command line and automating tasks using GitHub Codespaces are key focuses of the notebook.\n",
    "\n",
    "The project and individual tasks demonstrate working in a virtual environment and using automation tools like GitHub workflows to streamline repetive tasks. \n",
    "\n",
    "The first section will cover the steps taken to complete tasks 1-7 and an explaition of the commands used to do so.\n",
    "The section section will explore reading in and analysing one of the weather data files. \n"
   ]
  },
  {
   "cell_type": "markdown",
   "metadata": {},
   "source": [
    "##  Documenting tasks 1-7: Exploring Command-Line Techniques\n",
    "***  \n",
    "This section will go through tasks 1-7 of the Computer Infrastructure module.  \n",
    "\n",
    "The tasks will demonstrate: \n",
    "- Creating directories and directory structure using the command line\n",
    "- Working with date function to generate and format timestamps and creating files with timestamps in the filename\n",
    "- Downloading and saving data using ``wget``\n",
    "- Writing a script to be used for automation of tasks\n",
    "\n",
    "At the end of this section, the commands used throughout the tasks are summarised and explained."
   ]
  },
  {
   "cell_type": "markdown",
   "metadata": {},
   "source": [
    "### Task 1: Create Directory Structure\n",
    "\n",
    "Action required: Create a directory called ***data*** and two subdirectories called ***timestamps*** and ***weather***.\n",
    "\n",
    "![Creating directory structure using the command line](images/task_1_creating_directory_structure.png)\n",
    "\n",
    "To do this I started with the prompt ``mkdir -p data\\weather`` in the command line in GitHub Codespaces.  \n",
    "This prompt created the weather subdirectory while also enabling the parent directory to be created at the same time due to the ``-p`` command present in the prompt.  \n",
    "\n",
    "The ``-p`` command allows for a parent directory to be created using the name provided for the parent directory in case the directory is not already existing, in the above ***data*** is our parent directory.  \n",
    "\n",
    "After this I navigated to the ***data*** directory using ``cd data``. \n",
    "Within the ***data*** directory I used the ``mkdir timestamps`` prompt to create the empty ***timestamps*** directory. \n",
    "\n",
    "After this git Commit All and Push were executed to merge the changes in GitHub outside of the GitHub Codespaces.  \n",
    "\n",
    "#### Issue encountered\n",
    "\n",
    "While creating the directories there was an issue when trying to Commit and Push the directories back to the main branch in GitHub. The directory or subdirectories were not detected when they were empty.  \n",
    "To work around this, empty files called ***empty.md*** were created in both subdirectories using ``touch empty.md``.  \n",
    "\n",
    "![Workaround for empty directories](images/task_1_issues.png)\n",
    "\n",
    "After the empty files were present, the directories were present in GitHub after the Commit and Push."
   ]
  },
  {
   "cell_type": "markdown",
   "metadata": {},
   "source": [
    "### Task 2: Timestamps\n",
    "\n",
    "Action required: Create a file called **now.txt** containing the current timestamp at the time of running but use the ``date`` command and the redirect ``>>`` operator.\n",
    "Repeat the action 10 times and verify that the file's contents are correct using ``more`` command.\n",
    "\n",
    "![Adding timestamps to a .txt file](images/task_2_timestamps.png)"
   ]
  },
  {
   "cell_type": "markdown",
   "metadata": {},
   "source": [
    "Use ``cd`` command navigate to the required sub-directory **timestamps**. \n",
    "Once in the **timestamps** directory you can use the ``date`` command (followed by the desired format) to get the current timestamp at the time of running. The redirect functionality ``>>`` is indicates that the timestamp generated should be sent to a file called now.txt. \n",
    "If a file with this filename is not already present in the directory the redirect operator will create the file with the specified filename.  \n",
    "If a file with this filename is already present in the directory the redirect operator will amend the output from the command to the end of the now.txt file. \n",
    "\n",
    "This step is repeated 10 further times, as we are using ``>>`` each output generated from the ``date`` command are added to the end of the file. \n",
    "\n",
    "To ensure that the content of the **now.txt** file is correct the ``more`` command is run, this will display the content of the **now.txt** file on the command line. Here we will see 11 timestamps total displayed in order of older to newest timestamp.\n"
   ]
  },
  {
   "cell_type": "markdown",
   "metadata": {},
   "source": [
    "### Task 3: Formatting timestamps\n",
    "\n",
    "Action required: Run the date command to ensure the timestamp is generated in the format YYYYmmdd_HHMMSS. Then add this timestamp to a file called formatted.txt.\n",
    "\n",
    "![Formatting timestamps](images/task_3_formatting_dates.png)"
   ]
  },
  {
   "cell_type": "markdown",
   "metadata": {},
   "source": [
    "To start off ``man date`` was used to bring up the manual for the ``date`` command in the command line. After reading through the manual or finding the relevant information you need press the ``q`` key on the keyboard to exit this view. \n",
    "\n",
    "Next the date command was tested with the formatting required for the task, after verifying the output is correct the ``date`` command was run again along with the redirect ``>>`` operator to place the generated output in a file called **formatted.txt**. \n",
    "\n",
    "As the file was not already existing in the directory a new file is generated. \n",
    "\n",
    "``ll`` is then used to check the content of the current directory **data/timestamps**. In the screenshot above it can be seen at this time that the **formatted.txt** file has been generated. \n",
    "\n",
    "Using the ``more`` command we can then check the content of the file on the command line. \n",
    "\n",
    "After confirming the file contained the correct format git commit & push were performed to merge the changes to the main branch in GitHub and the GitHub Codespaces was closed. "
   ]
  },
  {
   "cell_type": "markdown",
   "metadata": {},
   "source": [
    "### Task 4: Create Timestamped Files\n",
    "\n",
    "Action required: Use ``touch`` to create an empty file named **YYYYmmdd_HHMMSS.txt**. \n",
    "\n",
    "![Creating timestamped filenames](images/task_4_creating_timestamped_files.png)"
   ]
  },
  {
   "cell_type": "markdown",
   "metadata": {},
   "source": [
    "Using the ``touch`` command a file is created using the ``date`` command. The use of backticks in the prompt, allows for the timestamp generated as the output of the ``date`` command to be used in the title of the filename.\n",
    "\n",
    "``ll`` was then used to confirm the file was in the directory with the correct name. \n",
    "It can be seen in the screenshot above that the file's size is 0 which is a good indication that the file is empty, to confirm the ``more`` command is also run, the lack of output displayed on the screen shows that there is no content to the file. "
   ]
  },
  {
   "cell_type": "markdown",
   "metadata": {},
   "source": [
    "### Task 5: Download Today's Weather Data"
   ]
  },
  {
   "cell_type": "markdown",
   "metadata": {},
   "source": [
    "Action required: Download the latest weather data for the Athenry weather station from Met Eireann URL and save the file as **weather.json**.\n",
    "\n",
    "![Downloading today's weather](images/task_5_downloading_todays_weather.png)"
   ]
  },
  {
   "cell_type": "markdown",
   "metadata": {},
   "source": [
    "The ``wget`` command is used with the ``-O`` functionality to name the file **weather.json**. This is then followed by the URL for the Met Eireann API to download the latest weather data available there.  By default the more detailed logs will show the different step by step running of the prompt, ending with a confirmation message that the **weather.json** file has been saved.  \n",
    "To double check the file is available in the directory ``ls`` can be used. "
   ]
  },
  {
   "cell_type": "markdown",
   "metadata": {},
   "source": [
    "### Task 6: Timestamp the Data\n",
    "\n",
    "Action required: Modify the command from Task 5 to save the downloaded file with a timestamped name in the format YYYYmmdd_HHMMSS.json.\n",
    "\n",
    "![Timestamping the filename of the downloaded weather data](images/task_6_timestamp_the_data.png)"
   ]
  },
  {
   "cell_type": "markdown",
   "metadata": {},
   "source": [
    "To use the timestamp within the filename the ``date`` function is used within the ``wget``. To do this, the ``date`` function should be placed after the ``-O`` in the prompt specifying the desired format, the filetype can also be set as part of the string too.  \n",
    "To check and ensure the file is not empty you can use the ``more`` command to have a quick look at the content of the file. In the screenshot above you can see the start of the ``.json`` file."
   ]
  },
  {
   "cell_type": "markdown",
   "metadata": {},
   "source": [
    "### Task 7: Write the Script\n",
    "\n",
    "Action required: Create a bash script called **weather.sh** in the root repository. This script should automate downloading the latest weather data from Met Eireann to the **data/weather** directory, using the timestamp as the filename in the format *YYYYmmdd_HHMMSS*. The script should then be tested to ensure it runs correctly.  \n",
    "\n",
    "![Content of weather.sh bash script](images/task_7_write_the_script_bash_script.png)\n",
    "\n",
    "![Running the weather.sh script to test](images/task_7_write_the_script.png)"
   ]
  },
  {
   "cell_type": "markdown",
   "metadata": {},
   "source": [
    "In the root of the repository a file called **weather.sh** is created, the first line of the script (called the \"shebang\" or \"bang\" line) indicates the language used which in this case is ``bash``.  \n",
    "\n",
    "The next line of code simply contains the ``wget`` command used in the command line for the previous task. The only change in the command is that the directory is also specified in the ``wget`` prompt before the ``date`` function, stating the parent directory **data** and the **sub-directory** weather as ``data/weather/``. This will ensure the file is placed in the weather directory once created. \n",
    "\n",
    "To test this the script was triggered using the command ``./weather.sh``. The terminal will show the system connecting to the API and subsequent steps for downloading the information, if successful the details will end with a confirmation that the file has been saved."
   ]
  },
  {
   "cell_type": "markdown",
   "metadata": {},
   "source": [
    "###  Key Commands Used\n",
    "\n",
    "> ``cd`` - stands for change directory, this is used to navigate through directories in the command line. ``cd ..`` is used to navigate up a level in the file path.  \n",
    "Using our example of ***data*** as the parent directory and ***weather*** as a subdirectory, within the ***weather*** subdirectory we can use ``cd ..`` to move up to the ***data*** parent directory.\n",
    "\n",
    "> ``touch`` - primary use is to touch an existing file to update the last modified information. However, a secondary use is to create text based files. This is possible as if the filename you as specifiying following ``touch`` is not already existing it will create a blank file with that name i.e. ``touch empty.md`` will create a markdown file called empty if it is not already existing. \n",
    "\n",
    "> ``mkdir`` - standing for make directory, is used to create a new directory. There are additional commands that can be used combined with the prompt to enhance the functionality. \n",
    "For example, ``mkdir -p`` can be used to create a parent directory and subdirectory at the same time. In this case ``-p`` stands for parent.\n",
    "\n",
    "> ``rm`` - standing for remove, is used to remove/delete a file or empty directory.  \n",
    "If needing to delete/remove a directory which is not empty ``-r`` can be added to the prompt ``rm -r``.\n",
    "\n",
    "> ``nano`` - a text editor that is commonly available for use in the command line. To use type ``nano`` followed by the filename i.e. ``nano empty.md``. This will open a new view in the command line to enable you to add text to the file. The instructions for how to navigate through the ``nano`` view are detailed at the botton of the screen. \n",
    "\n",
    "> ``date`` - date command is used to pull the current timestamp at the time of running the command. The format the date should be displayed in is set using ``+`` followed quotation symbols containing a combination of percentage symbols infront of the desired setting for the year, month, day, hour, minutes, seconds i.e. ``date +\"%Y%m%d%H%M%S\"``.\n",
    "\n",
    "> ``more`` - displays the content of a file. \n",
    "\n",
    "> ``>>`` - redirect (appending mode) can be used to direct the output of a command to a filename specified in the command. For example the prompt ``date +\"%Y%m%d%H%M%S\" >> example.txt`` will redirect the content created from the date command to a file called example.txt. If the filename is not existing already in the directory then a new file called **example.txt** will be created. However, if the file called **example.txt** is existing in the directory then the outputted content of the ``date`` command will be appended to the end of the existing **example.txt**. \n",
    "\n",
    "> ``man`` - standing for manual, the man command is a very useful prompt which can be used to bring the manual page for a specified command showing the different settings possible for a command. For example ``man date`` will bring up the manual page for the ``date`` command. Once in the manual page ``q`` is pressed to exit.\n",
    "\n",
    "> ``ll`` - an alias for the commands ``ls -l`` command which displays a list of the files and directories in your current directory in a long format. \n",
    "\n",
    "> ``wget`` - ``wget`` is used for downloading files from the internet using the command line. The most basic version of using the command can be done by simply by having ``wget`` followed by the URL. Enhancements can be made to the command which allows you to dictate the filename and location.\n",
    "\n",
    "> ``chmod`` - ``chmod`` command enables the user to change the permissions of a file or directory. ``chmod`` is used in this case to specify which permissions should be added to which role, ``u+x`` is how this is done.  \n",
    "To break this down, ``u`` is selecting the role ``user`` to be enhanced, which is the user who owns the file, the ``+`` symbol indicates that the permissions be added, and the ``x`` is enabling the user to execute or search for directories.  \n",
    "This is then followed by the file/directory in question, in this case ``./weather.sh``."
   ]
  },
  {
   "cell_type": "markdown",
   "metadata": {},
   "source": [
    "## Task 9: Analysing the Weather Data with Pandas\n",
    "\n",
    "***\n"
   ]
  },
  {
   "cell_type": "markdown",
   "metadata": {},
   "source": [
    "This next section will read in one of the files containing the weather data and analyis the data. \n",
    "\n",
    "The information within the ``.json`` files pulled from the gov.ie site contains an hourly synopsis of the weather in Athenry, Galway on the day it's pulled.  \n",
    "\n",
    "The file contains details of the: \n",
    " - Location name\n",
    " - Dry bulb temperature in whole degrees\n",
    " - Weather description\n",
    " - Windspeed (knots)\n",
    " - Cardinal Wind Direction\n",
    " - Relative Humidity (%)\n",
    " - Rainfall (mm)\n",
    " - msl Pressure (mbar)\n",
    " - Day of the week\n",
    " - Date\n",
    " - Time of observation\n",
    "\n",
    "In this next section we will look at the temperature, weather description, windspeed, cardinal wind direction and rainfall."
   ]
  },
  {
   "cell_type": "markdown",
   "metadata": {},
   "source": [
    "### Importing the required libraries"
   ]
  },
  {
   "cell_type": "code",
   "execution_count": 67,
   "metadata": {},
   "outputs": [],
   "source": [
    "import pandas as pd\n",
    "import matplotlib.pyplot as plt\n",
    "import seaborn as sns\n",
    "import matplotlib.dates as mdates\n",
    "import numpy as np"
   ]
  },
  {
   "cell_type": "markdown",
   "metadata": {},
   "source": [
    "### Reading in the data"
   ]
  },
  {
   "cell_type": "code",
   "execution_count": 68,
   "metadata": {},
   "outputs": [
    {
     "name": "stdout",
     "output_type": "stream",
     "text": [
      "       name  temperature symbol weatherDescription                 text  \\\n",
      "0   Athenry            2    15n         Fog / Mist       \"Fog thinning\"   \n",
      "1   Athenry            2    15n         Fog / Mist     \"Fog thickening\"   \n",
      "2   Athenry            2    15n         Fog / Mist                \"Fog\"   \n",
      "3   Athenry            1    15n         Fog / Mist       \"Fog thinning\"   \n",
      "4   Athenry            1    15n         Fog / Mist         \"Recent Fog\"   \n",
      "5   Athenry            1    15n         Fog / Mist               \"Mist\"   \n",
      "6   Athenry            2    15n         Fog / Mist     \"Fog thickening\"   \n",
      "7   Athenry            3    15n         Fog / Mist                \"Fog\"   \n",
      "8   Athenry            5    15n         Fog / Mist         \"Recent Fog\"   \n",
      "9   Athenry            7    04d             Cloudy             \"Cloudy\"   \n",
      "10  Athenry            9    04d             Cloudy             \"Cloudy\"   \n",
      "11  Athenry           10    46d        Light rain   \"Moderate Drizzle \"   \n",
      "12  Athenry           10    46d        Light rain   \"Moderate Drizzle \"   \n",
      "13  Athenry           11    46d        Light rain      \"Light Drizzle \"   \n",
      "14  Athenry           11    05d       Rain showers        \"Rain shower\"   \n",
      "15  Athenry           10    05d       Rain showers        \"Rain shower\"   \n",
      "16  Athenry           11    46d        Light rain     \"Recent Drizzle \"   \n",
      "17  Athenry           11    05n       Rain showers        \"Rain shower\"   \n",
      "18  Athenry           12    46n        Light rain         \"Light rain \"   \n",
      "19  Athenry           12    46n        Light rain      \"Heavy Drizzle \"   \n",
      "20  Athenry           13    46n        Light rain     \"Recent Drizzle \"   \n",
      "21  Athenry           13    15n         Fog / Mist               \"Mist\"   \n",
      "22  Athenry           12    05n       Rain showers        \"Rain shower\"   \n",
      "\n",
      "   windSpeed windGust cardinalWindDirection  windDirection  humidity  \\\n",
      "0          2        -                     S            180        98   \n",
      "1          -        -                                    0        99   \n",
      "2          4        -                     E             90        99   \n",
      "3          6        -                     E             90        99   \n",
      "4          4        -                     E             90        99   \n",
      "5          -        -                                    0        99   \n",
      "6          4        -                    SE            135        99   \n",
      "7          7        -                     E             90        99   \n",
      "8          7        -                     E             90        96   \n",
      "9         17        -                    SE            135        91   \n",
      "10        15        -                     S            180        93   \n",
      "11        19        -                     S            180        95   \n",
      "12        22        -                    SE            135        90   \n",
      "13        17        -                     S            180        91   \n",
      "14        26       54                     S            180        89   \n",
      "15        28       50                     S            180        94   \n",
      "16        22       48                     S            180        93   \n",
      "17        20        -                     S            180        97   \n",
      "18        20       41                    SW            225        97   \n",
      "19        17        -                    SW            225        99   \n",
      "20        26       46                    SW            225        92   \n",
      "21        26        -                    SW            225        90   \n",
      "22        13       44                     W            270        90   \n",
      "\n",
      "    rainfall  pressure    dayName       date reportTime  \n",
      "0       0.00      1024  Wednesday 2024-04-12      00:00  \n",
      "1       0.00      1024  Wednesday 2024-04-12      01:00  \n",
      "2       0.00      1023  Wednesday 2024-04-12      02:00  \n",
      "3       0.00      1023  Wednesday 2024-04-12      03:00  \n",
      "4       0.00      1022  Wednesday 2024-04-12      04:00  \n",
      "5       0.00      1022  Wednesday 2024-04-12      05:00  \n",
      "6       0.00      1021  Wednesday 2024-04-12      06:00  \n",
      "7       0.00      1020  Wednesday 2024-04-12      07:00  \n",
      "8       0.00      1019  Wednesday 2024-04-12      08:00  \n",
      "9       0.00      1018  Wednesday 2024-04-12      09:00  \n",
      "10      0.00      1016  Wednesday 2024-04-12      10:00  \n",
      "11      0.01      1015  Wednesday 2024-04-12      11:00  \n",
      "12      0.80      1012  Wednesday 2024-04-12      12:00  \n",
      "13      0.30      1010  Wednesday 2024-04-12      13:00  \n",
      "14      0.01      1009  Wednesday 2024-04-12      14:00  \n",
      "15      0.20      1007  Wednesday 2024-04-12      15:00  \n",
      "16      0.10      1007  Wednesday 2024-04-12      16:00  \n",
      "17      0.10      1006  Wednesday 2024-04-12      17:00  \n",
      "18      0.10      1005  Wednesday 2024-04-12      18:00  \n",
      "19      1.30      1005  Wednesday 2024-04-12      19:00  \n",
      "20      0.01      1005  Wednesday 2024-04-12      20:00  \n",
      "21      0.00      1005  Wednesday 2024-04-12      21:00  \n",
      "22      0.10      1006  Wednesday 2024-04-12      22:00  \n"
     ]
    }
   ],
   "source": [
    "df = pd.read_json('data/weather/20241204_230353.json') # reading in one of the json generated by the script \n",
    "print(df) #  printing quickly check the data"
   ]
  },
  {
   "cell_type": "markdown",
   "metadata": {},
   "source": [
    "### Checking & tidying the data"
   ]
  },
  {
   "cell_type": "code",
   "execution_count": 69,
   "metadata": {},
   "outputs": [
    {
     "name": "stdout",
     "output_type": "stream",
     "text": [
      "Data type per column:\n",
      "\ttemperature = int64\n",
      "\twindDirection = int64\n",
      "\thumidity = int64\n",
      "\trainfall = float64\n",
      "\tpressure = int64\n"
     ]
    }
   ],
   "source": [
    "# Dealing with fields where numeric data is expected\n",
    "numeric_field_to_convert = ('temperature', 'windDirection', 'humidity', 'rainfall', 'pressure')\n",
    "print('Data type per column:')\n",
    "for i in numeric_field_to_convert: # using the defined list above to create a for loop\n",
    "    df[i] = pd.to_numeric(df[i], errors='coerce') # using the value for i in each iteration of the for loop to specify which column should be converted to numeric. If there are any string entries 'coerce' will replace them with NaN to avoid errors \n",
    "    print(f'\\t{i} = {df[i].dtype}') # printing the name of the  column for each iteration and the dtype after the conversion"
   ]
  },
  {
   "cell_type": "code",
   "execution_count": 71,
   "metadata": {},
   "outputs": [],
   "source": [
    "# Ensuring no columns have blank string\n",
    "\n",
    "df.replace(\"\", np.nan, inplace=True) # replacing empty strings in the dataset with NaN"
   ]
  },
  {
   "cell_type": "code",
   "execution_count": null,
   "metadata": {},
   "outputs": [],
   "source": [
    "df['datetime'] = pd.to_datetime(df['date'].astype(str) + ' ' + df['reportTime'].astype(str)) # merging the date and reportTime columns to create a pandas datetime series to use the time as the index for the dataset\n",
    "#(df['datetime']) # testing conversion "
   ]
  },
  {
   "cell_type": "code",
   "execution_count": null,
   "metadata": {},
   "outputs": [],
   "source": [
    "df.set_index(df['datetime'], inplace=True) # setting the date as the index\n",
    "df = df.drop((['datetime']),axis =1) # removing the datetime column as the index now contains the pandas datetime series so the extra column is duplicated\n",
    "#print(df) # print for testing"
   ]
  },
  {
   "cell_type": "code",
   "execution_count": null,
   "metadata": {},
   "outputs": [],
   "source": [
    "# showing a high level overview of the summary of the numerical fields\n",
    "df.describe()"
   ]
  },
  {
   "cell_type": "markdown",
   "metadata": {},
   "source": [
    "### Weather description & Cardinal wind direction\n"
   ]
  },
  {
   "cell_type": "markdown",
   "metadata": {},
   "source": [
    "First, we look at two of the text fields in the file to get a general description of the weather and wind direction for the day. "
   ]
  },
  {
   "cell_type": "code",
   "execution_count": null,
   "metadata": {},
   "outputs": [],
   "source": [
    "counted_cardinalWindDirection = df['cardinalWindDirection'].value_counts()\n",
    "print(counted_cardinalWindDirection)\n",
    "\n",
    "counted_weather_descriptions = df['weatherDescription'].value_counts()\n",
    "print(counted_weather_descriptions)\n",
    "\n",
    "# generating colours using 'tab20' colormap as it contains 20 unique colours to avoid having colours repeated\n",
    "colormap = plt.colormaps['tab20']\n",
    "if len(counted_cardinalWindDirection) > len(counted_weather_descriptions): # if/else statement to ensure no colours are repeated using by first comparing the length of the two variables and ensuring the longer len value is used to set the number of colours\n",
    "    colors = [colormap(i / len(counted_cardinalWindDirection)) for i in range(len(counted_cardinalWindDirection))]\n",
    "    print (f'colour wind')\n",
    "else:\n",
    "    colors = [colormap(i / len(counted_weather_descriptions)) for i in range(len(counted_weather_descriptions))]\n",
    "    print(f'colour weather')\n",
    "\n",
    "\n",
    "plt.figure(figsize=(9,3))\n",
    "\n",
    "plt.subplot(1, 2, 1)\n",
    "plt.pie(counted_cardinalWindDirection, labels=counted_cardinalWindDirection.index, autopct='%1.1f%%', colors=colors) #creating the pie chart and using the .index to take the domain names from the domain_counts series automatically, adding the percentage per each value in the slice and adding a shadow to the chart\n",
    "#plt.legend(ncols = 3, loc='right', bbox_to_anchor=(1.8, -0.2)) #adding the legend with 3 columns to the figure using the custom labels created\n",
    "plt.title('Wind direction', x=.5, fontsize=14, ha='center') #setting the title for the figure, it's size and positioning on the figure\n",
    "\n",
    "plt.subplot(1, 2, 2)\n",
    "plt.pie(counted_weather_descriptions, labels=counted_weather_descriptions.index, autopct='%1.1f%%', colors=colors) #creating the pie chart and using the .index to take the domain names from the domain_counts series automatically, adding the percentage per each value in the slice and adding a shadow to the chart\n",
    "#plt.legend(ncols = 3, loc='right', bbox_to_anchor=(1.8, -0.2)) #adding the legend with 3 columns to the figure using the custom labels created\n",
    "plt.title('Weather Conditions', x=.5, fontsize=14, ha='center') #setting the title for the figure, it's size and positioning on the figure\n",
    "\n",
    "plt.show()"
   ]
  },
  {
   "cell_type": "code",
   "execution_count": null,
   "metadata": {},
   "outputs": [],
   "source": [
    "counted_weather_descriptions = df['weatherDescription'].value_counts()\n",
    "print(counted_weather_descriptions)\n",
    "\n",
    "plt.pie(counted_weather_descriptions, labels=counted_weather_descriptions.index, autopct='%1.1f%%' ) #creating the pie chart and using the .index to take the domain names from the domain_counts series automatically, adding the percentage per each value in the slice and adding a shadow to the chart\n",
    "#plt.legend(ncols = 3, loc='right', bbox_to_anchor=(1.8, -0.2)) #adding the legend with 3 columns to the figure using the custom labels created\n",
    "plt.title('Weather Conditions', x=.5, fontsize=14, ha='center') #setting the title for the figure, it's size and positioning on the figure\n",
    "plt.figure(figsize=(9,3))\n",
    "plt.show()"
   ]
  },
  {
   "cell_type": "markdown",
   "metadata": {},
   "source": [
    "From the above we can see a South/South West wind was most commonly observed for the wind direction with the majority of the day being rainy. "
   ]
  },
  {
   "cell_type": "markdown",
   "metadata": {},
   "source": [
    "### Temperature\n"
   ]
  },
  {
   "cell_type": "code",
   "execution_count": null,
   "metadata": {},
   "outputs": [],
   "source": [
    "# plotting the temperature \n",
    "plt.figure(figsize=(10,2))\n",
    "sns.lineplot(data=df, x=df.index, y='temperature')\n",
    "\n",
    "# formating x-axis dates to avoid labels on x-axis being cut off or shortened\n",
    "plt.gca().xaxis.set_major_formatter(mdates.DateFormatter('%Y-%m-%d\\n%H:%M')) \n",
    "\n",
    "plt.xlabel('Date & time')\n",
    "plt.ylabel('Temperature (°C)')\n",
    "plt.title('Temperature')\n",
    "\n",
    "mean_temp= df['temperature'].mean()\n",
    "#print(mean_temp)\n",
    "min_temp = df['temperature'].min()\n",
    "max_temp = df['temperature'].max() \n",
    "\n",
    "print(f'Between {df.index[0]} and {df.index[-1]}:\\n\\tAverage temperature = {mean_temp}\\n\\tMinimum temperature = {min_temp}\\n\\tMaximum temperature = {max_temp}')\n",
    "\n",
    "plt.figure(figsize=(5,3))\n",
    "plt.style.use('_mpl-gallery')\n",
    "plt.hist(df['temperature'])\n",
    "plt.xlabel('Temperature')\n"
   ]
  },
  {
   "cell_type": "markdown",
   "metadata": {},
   "source": [
    "### Wind speed"
   ]
  },
  {
   "cell_type": "code",
   "execution_count": null,
   "metadata": {},
   "outputs": [],
   "source": [
    "plt.figure(figsize=(10,2))\n",
    "sns.lineplot(data=df, x=df.index, y='windSpeed')\n",
    "plt.gca().xaxis.set_major_formatter(mdates.DateFormatter('%Y-%m-%d\\n%H:%M')) \n",
    "plt.xlabel('Date & time')\n",
    "plt.ylabel('Wind speed')\n",
    "plt.title('Wind speed')\n",
    "\n",
    "mean_wdsp= df['windSpeed'].mean()\n",
    "#print(mean_temp)\n",
    "min_wdsp = df['windSpeed'].min()\n",
    "max_wdsp = df['windSpeed'].max() \n",
    "\n",
    "print(f'Between {df.index[0]} and {df.index[-1]}:\\n\\tAverage wind speed = {mean_wdsp}\\n\\tMinimum wind speed = {min_wdsp}\\n\\tMaximum wind speed = {max_wdsp}')\n",
    "\n",
    "plt.figure(figsize=(5,3))\n",
    "plt.style.use('_mpl-gallery')\n",
    "plt.hist(df['windSpeed'])\n",
    "plt.xlabel('Wind Speed')\n"
   ]
  },
  {
   "cell_type": "markdown",
   "metadata": {},
   "source": [
    "### Humidity"
   ]
  },
  {
   "cell_type": "code",
   "execution_count": null,
   "metadata": {},
   "outputs": [],
   "source": [
    "# plotting the humidity \n",
    "plt.figure(figsize=(10,2))\n",
    "sns.lineplot(data=df, x=df.index, y='humidity')\n",
    "plt.gca().xaxis.set_major_formatter(mdates.DateFormatter('%Y-%m-%d\\n%H:%M')) \n",
    "plt.xlabel('Date & time (MM-DD HH)')\n",
    "plt.ylabel('Humidity')\n",
    "plt.title('Humidity')\n",
    "\n",
    "mean_humidity= df['humidity'].mean()\n",
    "#print(mean_temp)\n",
    "min_humidity = df['humidity'].min()\n",
    "max_humidity = df['humidity'].max() \n",
    "\n",
    "print(f'Between {df.index[0]} and {df.index[-1]}:\\n\\tAverage humidity = {mean_humidity}\\n\\tMinimum humidity = {min_humidity}\\n\\tMaximum humidity = {max_humidity}')\n",
    "\n",
    "plt.figure(figsize=(5,3))\n",
    "plt.style.use('_mpl-gallery')\n",
    "plt.hist(df['humidity'])\n",
    "plt.xlabel('Humidity')\n"
   ]
  },
  {
   "cell_type": "markdown",
   "metadata": {},
   "source": [
    "### Rainfall"
   ]
  },
  {
   "cell_type": "code",
   "execution_count": null,
   "metadata": {},
   "outputs": [],
   "source": [
    "# plotting the rainfall \n",
    "plt.figure(figsize=(10,2))\n",
    "sns.lineplot(data=df, x=df.index, y='rainfall')\n",
    "plt.gca().xaxis.set_major_formatter(mdates.DateFormatter('%Y-%m-%d\\n%H:%M')) \n",
    "plt.xlabel('Date & time')\n",
    "plt.ylabel('Rainfall')\n",
    "plt.title('Rainfall over time')\n",
    "\n",
    "mean_rainfall= df['rainfall'].mean()\n",
    "#print(mean_temp)\n",
    "min_rainfall = df['rainfall'].min()\n",
    "max_rainfall = df['rainfall'].max() \n",
    "\n",
    "print(f'Between {df.index[0]} and {df.index[-1]}:\\n\\tAverage rainfall = {mean_rainfall}\\n\\tMinimum rainfall = {min_rainfall}\\n\\tMaximum rainfall = {max_rainfall}')\n",
    "\n",
    "plt.figure(figsize=(5,3))\n",
    "plt.style.use('_mpl-gallery')\n",
    "plt.hist(df['rainfall'])\n",
    "plt.xlabel('Rainfall')\n"
   ]
  },
  {
   "cell_type": "markdown",
   "metadata": {},
   "source": [
    "### Conclusion"
   ]
  },
  {
   "cell_type": "markdown",
   "metadata": {},
   "source": [
    "\n",
    "\n",
    "***\n",
    "# End"
   ]
  },
  {
   "cell_type": "markdown",
   "metadata": {},
   "source": [
    "Author:  \n",
    "Angela Davis"
   ]
  }
 ],
 "metadata": {
  "kernelspec": {
   "display_name": "base",
   "language": "python",
   "name": "python3"
  },
  "language_info": {
   "codemirror_mode": {
    "name": "ipython",
    "version": 3
   },
   "file_extension": ".py",
   "mimetype": "text/x-python",
   "name": "python",
   "nbconvert_exporter": "python",
   "pygments_lexer": "ipython3",
   "version": "3.12.4"
  }
 },
 "nbformat": 4,
 "nbformat_minor": 2
}
