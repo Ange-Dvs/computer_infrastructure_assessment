{
 "cells": [
  {
   "cell_type": "markdown",
   "metadata": {},
   "source": [
    "# Weather.ipynb\n"
   ]
  },
  {
   "cell_type": "markdown",
   "metadata": {},
   "source": [
    "## Purpose\n",
    "***\n",
    "\n",
    "This notebook contains the tasks and analysis required for the Computer Infrastructure module.  \n",
    "Working with the command line and automating tasks using GitHub Codespaces are key focuses of the notebook.\n",
    "\n",
    "The project and individual tasks demonstrate working in a virtual environment and using automation tools like GitHub workflows to streamline repetive tasks. \n",
    "\n",
    "The first section will cover the steps taken to complete tasks 1-7 and an explaition of the commands used to do so.\n",
    "The section section will explore reading in and analysing one of the weather data files. \n"
   ]
  },
  {
   "cell_type": "markdown",
   "metadata": {},
   "source": [
    "##  Documenting tasks 1-7: Exploring Command-Line Techniques\n",
    "***  \n",
    "This section will go through tasks 1-7 of the Computer Infrastructure module.  \n",
    "\n",
    "The tasks will demonstrate: \n",
    "- Creating directories and directory structure using the command line\n",
    "- Working with date function to generate and format timestamps and creating files with timestamps in the filename\n",
    "- Downloading and saving data using ``wget``\n",
    "- Writing a script to be used for automation of tasks\n",
    "\n",
    "At the end of this section, the commands used throughout the tasks are summarised and explained."
   ]
  },
  {
   "cell_type": "markdown",
   "metadata": {},
   "source": [
    "### Task 1: Create Directory Structure\n",
    "\n",
    "Action required: Create a directory called ***data*** and two subdirectories called ***timestamps*** and ***weather***.\n",
    "\n",
    "![Creating directory structure using the command line](images/task_1_creating_directory_structure.png)\n",
    "\n",
    "To do this I started with the prompt ``mkdir -p data\\weather`` in the command line in GitHub Codespaces.  \n",
    "This prompt created the weather subdirectory while also enabling the parent directory to be created at the same time due to the ``-p`` command present in the prompt.  \n",
    "\n",
    "The ``-p`` command allows for a parent directory to be created using the name provided for the parent directory in case the directory is not already existing, in the above ***data*** is our parent directory.  \n",
    "\n",
    "After this I navigated to the ***data*** directory using ``cd data``. \n",
    "Within the ***data*** directory I used the ``mkdir timestamps`` prompt to create the empty ***timestamps*** directory. \n",
    "\n",
    "After this git Commit All and Push were executed to merge the changes in GitHub outside of the GitHub Codespaces.  \n",
    "\n",
    "#### Issue encountered\n",
    "\n",
    "While creating the directories there was an issue when trying to Commit and Push the directories back to the main branch in GitHub. The directory or subdirectories were not detected when they were empty.  \n",
    "To work around this, empty files called ***empty.md*** were created in both subdirectories using ``touch empty.md``.  \n",
    "\n",
    "![Workaround for empty directories](images/task_1_issues.png)\n",
    "\n",
    "After the empty files were present, the directories were present in GitHub after the Commit and Push."
   ]
  },
  {
   "cell_type": "markdown",
   "metadata": {},
   "source": [
    "### Task 2: Timestamps\n",
    "\n",
    "Action required: Create a file called **now.txt** containing the current timestamp at the time of running but use the ``date`` command and the redirect ``>>`` operator.\n",
    "Repeat the action 10 times and verify that the file's contents are correct using ``more`` command.\n",
    "\n",
    "![Adding timestamps to a .txt file](images/task_2_timestamps.png)"
   ]
  },
  {
   "cell_type": "markdown",
   "metadata": {},
   "source": [
    "Use ``cd`` command navigate to the required sub-directory **timestamps**. \n",
    "Once in the **timestamps** directory you can use the ``date`` command (followed by the desired format) to get the current timestamp at the time of running. The redirect functionality ``>>`` is indicates that the timestamp generated should be sent to a file called now.txt. \n",
    "If a file with this filename is not already present in the directory the redirect operator will create the file with the specified filename.  \n",
    "If a file with this filename is already present in the directory the redirect operator will amend the output from the command to the end of the now.txt file. \n",
    "\n",
    "This step is repeated 10 further times, as we are using ``>>`` each output generated from the ``date`` command are added to the end of the file. \n",
    "\n",
    "To ensure that the content of the **now.txt** file is correct the ``more`` command is run, this will display the content of the **now.txt** file on the command line. Here we will see 11 timestamps total displayed in order of older to newest timestamp.\n"
   ]
  },
  {
   "cell_type": "markdown",
   "metadata": {},
   "source": [
    "### Task 3: Formatting timestamps\n",
    "\n",
    "Action required: Run the date command to ensure the timestamp is generated in the format YYYYmmdd_HHMMSS. Then add this timestamp to a file called formatted.txt.\n",
    "\n",
    "![Formatting timestamps](images/task_3_formatting_dates.png)"
   ]
  },
  {
   "cell_type": "markdown",
   "metadata": {},
   "source": [
    "To start off ``man date`` was used to bring up the manual for the ``date`` command in the command line. After reading through the manual or finding the relevant information you need press the ``q`` key on the keyboard to exit this view. \n",
    "\n",
    "Next the date command was tested with the formatting required for the task, after verifying the output is correct the ``date`` command was run again along with the redirect ``>>`` operator to place the generated output in a file called **formatted.txt**. \n",
    "\n",
    "As the file was not already existing in the directory a new file is generated. \n",
    "\n",
    "``ll`` is then used to check the content of the current directory **data/timestamps**. In the screenshot above it can be seen at this time that the **formatted.txt** file has been generated. \n",
    "\n",
    "Using the ``more`` command we can then check the content of the file on the command line. \n",
    "\n",
    "After confirming the file contained the correct format git commit & push were performed to merge the changes to the main branch in GitHub and the GitHub Codespaces was closed. "
   ]
  },
  {
   "cell_type": "markdown",
   "metadata": {},
   "source": [
    "### Task 4: Create Timestamped Files\n",
    "\n",
    "Action required: Use ``touch`` to create an empty file named **YYYYmmdd_HHMMSS.txt**. \n",
    "\n",
    "![Creating timestamped filenames](images/task_4_creating_timestamped_files.png)"
   ]
  },
  {
   "cell_type": "markdown",
   "metadata": {},
   "source": [
    "Using the ``touch`` command a file is created using the ``date`` command. The use of backticks in the prompt, allows for the timestamp generated as the output of the ``date`` command to be used in the title of the filename.\n",
    "\n",
    "``ll`` was then used to confirm the file was in the directory with the correct name. \n",
    "It can be seen in the screenshot above that the file's size is 0 which is a good indication that the file is empty, to confirm the ``more`` command is also run, the lack of output displayed on the screen shows that there is no content to the file. "
   ]
  },
  {
   "cell_type": "markdown",
   "metadata": {},
   "source": [
    "### Task 5: Download Today's Weather Data"
   ]
  },
  {
   "cell_type": "markdown",
   "metadata": {},
   "source": [
    "Action required: Download the latest weather data for the Athenry weather station from Met Eireann URL and save the file as **weather.json**.\n",
    "\n",
    "![Downloading today's weather](images/task_5_downloading_todays_weather.png)"
   ]
  },
  {
   "cell_type": "markdown",
   "metadata": {},
   "source": [
    "The ``wget`` command is used with the ``-O`` functionality to name the file **weather.json**. This is then followed by the URL for the Met Eireann API to download the latest weather data available there.  By default the more detailed logs will show the different step by step running of the prompt, ending with a confirmation message that the **weather.json** file has been saved.  \n",
    "To double check the file is available in the directory ``ls`` can be used. "
   ]
  },
  {
   "cell_type": "markdown",
   "metadata": {},
   "source": [
    "### Task 6: Timestamp the Data\n",
    "\n",
    "Action required: Modify the command from Task 5 to save the downloaded file with a timestamped name in the format YYYYmmdd_HHMMSS.json.\n",
    "\n",
    "![Timestamping the filename of the downloaded weather data](images/task_6_timestamp_the_data.png)"
   ]
  },
  {
   "cell_type": "markdown",
   "metadata": {},
   "source": [
    "To use the timestamp within the filename the ``date`` function is used within the ``wget``. To do this, the ``date`` function should be placed after the ``-O`` in the prompt specifying the desired format, the filetype can also be set as part of the string too.  \n",
    "To check and ensure the file is not empty you can use the ``more`` command to have a quick look at the content of the file. In the screenshot above you can see the start of the ``.json`` file."
   ]
  },
  {
   "cell_type": "markdown",
   "metadata": {},
   "source": [
    "### Task 7: Write the Script\n",
    "\n",
    "Action required: Create a bash script called **weather.sh** in the root repository. This script should automate downloading the latest weather data from Met Eireann to the **data/weather** directory, using the timestamp as the filename in the format *YYYYmmdd_HHMMSS*. The script should then be tested to ensure it runs correctly.  \n",
    "\n",
    "![Content of weather.sh bash script](images/task_7_write_the_script_bash_script.png)\n",
    "\n",
    "![Running the weather.sh script to test](images/task_7_write_the_script.png)"
   ]
  },
  {
   "cell_type": "markdown",
   "metadata": {},
   "source": [
    "In the root of the repository a file called **weather.sh** is created, the first line of the script (called the \"shebang\" or \"bang\" line) indicates the language used which in this case is ``bash``.  \n",
    "\n",
    "The next line of code simply contains the ``wget`` command used in the command line for the previous task. The only change in the command is that the directory is also specified in the ``wget`` prompt before the ``date`` function, stating the parent directory **data** and the **sub-directory** weather as ``data/weather/``. This will ensure the file is placed in the weather directory once created. \n",
    "\n",
    "To test this the script was triggered using the command ``./weather.sh``. The terminal will show the system connecting to the API and subsequent steps for downloading the information, if successful the details will end with a confirmation that the file has been saved."
   ]
  },
  {
   "cell_type": "markdown",
   "metadata": {},
   "source": [
    "###  Key Commands Used\n",
    "\n",
    "> ``cd`` - stands for change directory, this is used to navigate through directories in the command line. ``cd ..`` is used to navigate up a level in the file path.  \n",
    "Using our example of ***data*** as the parent directory and ***weather*** as a subdirectory, within the ***weather*** subdirectory we can use ``cd ..`` to move up to the ***data*** parent directory.\n",
    "\n",
    "> ``touch`` - primary use is to touch an existing file to update the last modified information. However, a secondary use is to create text based files. This is possible as if the filename you as specifiying following ``touch`` is not already existing it will create a blank file with that name i.e. ``touch empty.md`` will create a markdown file called empty if it is not already existing. \n",
    "\n",
    "> ``mkdir`` - standing for make directory, is used to create a new directory. There are additional commands that can be used combined with the prompt to enhance the functionality. \n",
    "For example, ``mkdir -p`` can be used to create a parent directory and subdirectory at the same time. In this case ``-p`` stands for parent.\n",
    "\n",
    "> ``rm`` - standing for remove, is used to remove/delete a file or empty directory.  \n",
    "If needing to delete/remove a directory which is not empty ``-r`` can be added to the prompt ``rm -r``.\n",
    "\n",
    "> ``nano`` - a text editor that is commonly available for use in the command line. To use type ``nano`` followed by the filename i.e. ``nano empty.md``. This will open a new view in the command line to enable you to add text to the file. The instructions for how to navigate through the ``nano`` view are detailed at the botton of the screen. \n",
    "\n",
    "> ``date`` - date command is used to pull the current timestamp at the time of running the command. The format the date should be displayed in is set using ``+`` followed quotation symbols containing a combination of percentage symbols infront of the desired setting for the year, month, day, hour, minutes, seconds i.e. ``date +'%Y%m%d%H%M%S'``.\n",
    "\n",
    "> ``more`` - displays the content of a file. \n",
    "\n",
    "> ``>>`` - redirect (appending mode) can be used to direct the output of a command to a filename specified in the command. For example the prompt ``date +\"%Y%m%d%H%M%S\" >> example.txt`` will redirect the content created from the date command to a file called example.txt. If the filename is not existing already in the directory then a new file called **example.txt** will be created. However, if the file called **example.txt** is existing in the directory then the outputted content of the ``date`` command will be appended to the end of the existing **example.txt**. \n",
    "\n",
    "> ``man`` - standing for manual, the man command is a very useful prompt which can be used to bring the manual page for a specified command showing the different settings possible for a command. For example ``man date`` will bring up the manual page for the ``date`` command. Once in the manual page ``q`` is pressed to exit.\n",
    "\n",
    "> ``ll`` - an alias for the commands ``ls -l`` command which displays a list of the files and directories in your current directory in a long format. \n",
    "\n",
    "> ``wget`` - ``wget`` is used for downloading files from the internet using the command line. The most basic version of using the command can be done by simply by having ``wget`` followed by the URL. Enhancements can be made to the command which allows you to dictate the filename and location.\n",
    "\n",
    "> ``chmod`` - ``chmod`` command enables the user to change the permissions of a file or directory. ``chmod`` is used in this case to specify which permissions should be added to which role, ``u+x`` is how this is done.  \n",
    "To break this down, ``u`` is selecting the role ``user`` to be enhanced, which is the user who owns the file, the ``+`` symbol indicates that the permissions be added, and the ``x`` is enabling the user to execute or search for directories.  \n",
    "This is then followed by the file/directory in question, in this case ``./weather.sh``."
   ]
  },
  {
   "cell_type": "markdown",
   "metadata": {},
   "source": [
    "## Task 9: Analysing the Weather Data with Pandas\n",
    "\n",
    "***\n"
   ]
  },
  {
   "cell_type": "markdown",
   "metadata": {},
   "source": [
    "This next section will read in one of the files containing the weather data and analysis the data. \n",
    "\n",
    "The information within the ``.json`` files pulled from the gov.ie site contains an hourly synopsis of the weather in Athenry, Galway so far on the day it's pulled.  \n",
    "\n",
    "The file contains details of the: \n",
    " - Location name\n",
    " - Dry bulb temperature () in whole degrees\n",
    " - Weather description\n",
    " - Windspeed (knots)\n",
    " - Cardinal Wind Direction\n",
    " - Wind Direction in degrees\n",
    " - Relative Humidity (%)\n",
    " - Rainfall (mm)\n",
    " - msl Pressure (mbar)\n",
    " - Day of the week\n",
    " - Date\n",
    " - Time of observation (utc)\n",
    "\n",
    "In the first section the temperature, weather description, windspeed, cardinal wind direction, rainfall and pressure from the ``.json`` file will be reviewed and analysed."
   ]
  },
  {
   "cell_type": "markdown",
   "metadata": {},
   "source": [
    "After analysing the file by itself, the data will be compared of that to the same day for previous years.  \n",
    "The data contained within the historical data CSVs are: \n",
    "\n",
    "- Date and Time of observation (utc)\n",
    "- Rainfall (mm)\n",
    "- Air Temperature (C)\n",
    "- Relative Humidity (%)\n",
    "- Mean Wind Speed (kt)\n",
    "- Predominant Wind Direction (deg)\n",
    "- Mean Sea Level Pressure (hPa)\n",
    "\n",
    "In this section the temperature, windspeed, rainfall, humidity and pressure will be analysed. Fpr pressure, as mbar measurement are equvivalent (1 hPa = 1 mbar) so hPa will be used when referring to the pressure measurement throughout the notebook.\n"
   ]
  },
  {
   "cell_type": "markdown",
   "metadata": {},
   "source": [
    "### Importing the required libraries"
   ]
  },
  {
   "cell_type": "code",
   "execution_count": 47,
   "metadata": {},
   "outputs": [],
   "source": [
    "import pandas as pd\n",
    "import matplotlib.pyplot as plt\n",
    "import seaborn as sns\n",
    "import matplotlib.dates as mdates\n",
    "import numpy as np\n",
    "from myfunctions import colours_for_pie, check_common_wind_direction, preprocess_data, get_mean_min_max, line_plot_overview, plot_column, stats_single_field\n"
   ]
  },
  {
   "cell_type": "markdown",
   "metadata": {},
   "source": [
    "### Reading in the data"
   ]
  },
  {
   "cell_type": "code",
   "execution_count": 48,
   "metadata": {},
   "outputs": [],
   "source": [
    "df2024 = pd.read_json('data/weather/20241208_235253.json') # reading in one of the json generated by the script \n",
    "\n",
    "# reading in historical data for comparision \n",
    "df2020 = pd.read_csv('data/historical_data_athenry/2020_12_hourly.csv')\n",
    "df2021 = pd.read_csv('data/historical_data_athenry/2021_12_hourly.csv')\n",
    "df2022 = pd.read_csv('data/historical_data_athenry/2022_12_hourly.csv')\n",
    "df2023 = pd.read_csv('data/historical_data_athenry/2023_12_hourly.csv')"
   ]
  },
  {
   "cell_type": "markdown",
   "metadata": {},
   "source": [
    "### Checking & tidying the data"
   ]
  },
  {
   "cell_type": "code",
   "execution_count": 49,
   "metadata": {},
   "outputs": [],
   "source": [
    "rename_columns = {'wdsp':'windSpeed','rhum':'humidity','rain':'rainfall','msl':'pressure', 'temp':'temperature'}\n",
    "numeric_fields = ['rainfall', 'temperature', 'humidity', 'windSpeed', 'pressure']\n",
    "datetime_format = '%d-%b-%Y %H:%M'\n",
    "\n",
    "df2024['datetime'] = pd.to_datetime(df2024['date'].astype(str) + ' ' + df2024['reportTime'].astype(str)) # merging the date and reportTime columns from the .json file as strings and converting to a pandas datetime series to enable it to be used as the index for the DataFrame\n",
    "\n",
    "df2024 = preprocess_data(data=df2024, rename_columns=None, numeric_fields=numeric_fields, date_col='datetime', datetime_format=datetime_format) # function to take in the historical datasets for previous years and prepare the data to be used \n",
    "df2024 = df2024.drop((['reportTime', 'date']),axis =1) # removing the datetime column as the index now contains the pandas datetime series so the extra column is duplicated\n",
    "\n",
    "# setting date_col to be used for the historical date being preprocessed\n",
    "date_col = 'date'\n",
    "\n",
    "# calling the preprocess_data function to clean the historical datasets to match the naming of the .json file\n",
    "df2020 = preprocess_data(data=df2020, rename_columns=rename_columns, numeric_fields=numeric_fields, date_col=date_col, datetime_format=datetime_format)\n",
    "\n",
    "df2021 = preprocess_data(data=df2021, rename_columns=rename_columns, numeric_fields=numeric_fields, date_col=date_col, datetime_format=datetime_format)\n",
    "\n",
    "df2022 = preprocess_data(data=df2022, rename_columns=rename_columns, numeric_fields=numeric_fields, date_col=date_col, datetime_format=datetime_format)\n",
    "\n",
    "df2023 = preprocess_data(data=df2023, rename_columns=rename_columns, numeric_fields=numeric_fields, date_col=date_col, datetime_format=datetime_format)  \n"
   ]
  },
  {
   "cell_type": "markdown",
   "metadata": {},
   "source": [
    "### Weather description & Cardinal wind direction\n"
   ]
  },
  {
   "cell_type": "markdown",
   "metadata": {},
   "source": [
    "First, we look at two of the text fields in the file to get a general description of the weather and wind direction for the day. "
   ]
  },
  {
   "cell_type": "code",
   "execution_count": null,
   "metadata": {},
   "outputs": [],
   "source": [
    "# Creating a summary of the values entered in the cardinalyWindDirection & weatherDescription fields, matched with the count of how many times each value occurs\n",
    "counted_cardinalWindDirection = df2024['cardinalWindDirection'].value_counts()\n",
    "#print(counted_cardinalWindDirection) used for testing\n",
    "counted_weather_descriptions = df2024['weatherDescription'].value_counts()\n",
    "#print(counted_weather_descriptions) used for testing\n",
    "\n",
    "colors = colours_for_pie(counted_cardinalWindDirection, counted_weather_descriptions)\n",
    "most_common_descrp = df2024['weatherDescription'].mode()[0] # finding the most common weather description of the day. \n",
    "most_common_wind_direction = check_common_wind_direction(data=df2024)\n",
    "\n",
    "print(f'The predominant wind direction for the day was {most_common_wind_direction}, with the majority of the day being {most_common_descrp}.') \n",
    "\n",
    "# Creating pie charts to show the breakdown of each wind directions and weather condition reported for the day \n",
    "# Using the .index assign the labels the values returned from the .value_count() function\n",
    "# Adding the percentage per each value in the slice chart\n",
    "\n",
    "plt.figure(figsize=(7,3)) # setting the figure size to avoid over crowding of the pie charts\n",
    "\n",
    "plt.subplot(1, 2, 1)\n",
    "plt.pie(counted_cardinalWindDirection, labels=counted_cardinalWindDirection.index, autopct='%1.1f%%', colors=colors) \n",
    "plt.title('Wind direction', x=.5, fontsize=14, ha='center') #setting the title for the figure, it's size and positioning on the figure\n",
    "\n",
    "plt.subplot(1, 2, 2)\n",
    "plt.pie(counted_weather_descriptions, labels=counted_weather_descriptions.index, autopct='%1.1f%%', colors=colors)\n",
    "plt.title('Weather Conditions', x=.5, fontsize=14, ha='center') #setting the title for the figure, it's size and positioning on the figure\n",
    "\n",
    "plt.show()\n"
   ]
  },
  {
   "cell_type": "markdown",
   "metadata": {},
   "source": [
    "### Analysis per numeric fields\n",
    "\n",
    "#### 2024"
   ]
  },
  {
   "cell_type": "code",
   "execution_count": 51,
   "metadata": {},
   "outputs": [],
   "source": [
    "# Selecting the columns for the scatter plot grid\n",
    "selected_columns = ['rainfall','temperature', 'humidity', 'windSpeed', 'pressure']\n"
   ]
  },
  {
   "cell_type": "code",
   "execution_count": null,
   "metadata": {},
   "outputs": [],
   "source": [
    "# showing a high level overview of the summary of the numerical fields that will be reviewed in the notebook\n",
    "df2024.describe().loc[['mean','min', 'max'],['temperature', 'windSpeed', 'humidity', 'rainfall', 'pressure']]\n"
   ]
  },
  {
   "cell_type": "markdown",
   "metadata": {},
   "source": [
    "##### Temperature\n"
   ]
  },
  {
   "cell_type": "code",
   "execution_count": null,
   "metadata": {},
   "outputs": [],
   "source": [
    "# plotting the temperature \n",
    "temp_plot_to_show = line_plot_overview(selected_column='temperature', dataset24=df2024)"
   ]
  },
  {
   "cell_type": "code",
   "execution_count": null,
   "metadata": {},
   "outputs": [],
   "source": [
    "# Calculate the average temperature depending on the wind direction using the 4 wind directions recorded within the .json\n",
    "average_temp_north = df2024[df2024['cardinalWindDirection'] == 'N']['temperature'].mean()\n",
    "average_temp_north_east = df2024[df2024['cardinalWindDirection'] == 'NE']['temperature'].mean()\n",
    "average_temp_west = df2024[df2024['cardinalWindDirection'] == 'W']['temperature'].mean()\n",
    "average_temp_north_west = df2024[df2024['cardinalWindDirection'] == 'NW']['temperature'].mean()\n",
    "\n",
    "print(f'The average temperature by wind direction: \\n\\tNorth:\\t\\t{average_temp_north:.2f}°C\\n\\tNorth-East:\\t{average_temp_north_east}°C\\n\\tWest:\\t\\t{average_temp_west}°C\\n\\tNorth-West:\\t{average_temp_north_west}°C')"
   ]
  },
  {
   "cell_type": "markdown",
   "metadata": {},
   "source": [
    "The North-East (NE) wind direction corresponds to the highest average temperature.  \n",
    "North-West (NW) wind direction corresponds to the lowest average temperature, which aligns with colder, polar-origin air masses often associated with NW winds in Ireland.\n",
    "The West (W) and North (N) directions sit between the extremes, indicating more moderate temperature patterns."
   ]
  },
  {
   "cell_type": "code",
   "execution_count": null,
   "metadata": {},
   "outputs": [],
   "source": [
    "results = stats_single_field(dataset=df2024, field='temperature', unit='°C')"
   ]
  },
  {
   "cell_type": "markdown",
   "metadata": {},
   "source": [
    "The peak temperature for the day was recorded at 2pm, while the minimum temperature occurred at 11pm.  \n",
    "This seems to be in line with what is expected during Winter months as the days are shorter with less hours of sunlight resulting in rapidly cooler evenings.  \n",
    "The average temperature (4.42°C) indicates a cold day, which is to be expected within December.  \n",
    "The average rate of change (-0.13°C) indicates that the temperature on average decreased over the day.  \n",
    "The largest rate of change seen within an hour was 2.0°C.\n"
   ]
  },
  {
   "cell_type": "markdown",
   "metadata": {},
   "source": [
    "##### Windspeed"
   ]
  },
  {
   "cell_type": "code",
   "execution_count": null,
   "metadata": {},
   "outputs": [],
   "source": [
    "wdsp_plot_to_show = line_plot_overview(selected_column='windSpeed', dataset24=df2024)   \n",
    "results = stats_single_field(dataset=df2024, field='windSpeed', unit='kt')"
   ]
  },
  {
   "cell_type": "markdown",
   "metadata": {},
   "source": [
    "The maximum wind speed was recorded at 1pm, reaching 26 knots, this is classified as a strong breeze in Beaufort wind scale which is enough to shake large branches. \n",
    "While the minimum wind speed of 2 knots was recorded at 4am.  \n",
    "From this information and also looking at the line plot for the windspeed throughout the day, it indicates calm conditions during the early morning, peaking at 1pm.\n",
    "\n",
    "The range for the day is 24 knots (26 knots - 2 knots).\n",
    "\n",
    "  This significant variability highlights dynamic wind conditions, with a transition from calm periods to gusty winds.\n",
    "\n",
    "The average wind speed over the day was 11.83 knots. Using the Beaufort wind scale this equals a moderate breeze, enough to move small branches.\n",
    "The average hourly rate of change is -0.43 knots/hr, suggesting a general decrease in windspeed throughout the day.  \n",
    "\n",
    "This negative value suggests a general decrease in wind speed throughout the day, especially later into the evening or night.\n",
    "\n",
    "The largest single rate of change in wind speed was 17 knots.\n",
    "\n",
    "The wide range of wind speed (24 knots) and the largest rate of change (17 knots) indicate that the day experienced winds are varying speeds.\n",
    "\n",
    "The ranged from calm early morning conditions (2 knots) to a peak of 26 knots in the early afternoon.  \n",
    "The significant rate of change (17 knots) highlights a sudden increase in wind intensity, likely linked to gusts or atmospheric changes. \n",
    "The average wind speed of 11.83 knots suggests moderate breezy conditions overall.\n",
    "\n",
    "https://www.rmets.org/metmatters/beaufort-wind-scale"
   ]
  },
  {
   "cell_type": "markdown",
   "metadata": {},
   "source": [
    "##### Humidity"
   ]
  },
  {
   "cell_type": "code",
   "execution_count": null,
   "metadata": {},
   "outputs": [],
   "source": [
    "hum_plot_to_show = line_plot_overview(selected_column='humidity', dataset24=df2024)\n",
    "results = stats_single_field(dataset=df2024, field='humidity', unit='%')"
   ]
  },
  {
   "cell_type": "markdown",
   "metadata": {},
   "source": [
    "The maximum humidity was 93% recorded at 05AM (early morning).  \n",
    "This aligns with typical atmospheric behaviour, where humidity peaks overnight due to cooling and reduced evaporation, leading to near-saturation conditions.\n",
    "\n",
    "The minimum humidity was 71%, recorded at 3pm (afternoon).  \n",
    "This drop in humidity is consistent with daytime heating, which increases the air's capacity to hold moisture, thus lowering relative humidity.\n",
    "\n",
    "The range of 22% (93% - 71%) shows a notable difference between morning and afternoon values, highlighting a diurnal pattern likely influenced by temperature changes.\n",
    "\n",
    "The average humidity for the day was 85.58%.  This indicates overall high moisture content in the air, which is typical for cooler seasons like December when the air holds less total moisture but remains near saturation.\n",
    "\n",
    "The average rate of change is 0.30% per hour. This gradual change suggests a primarily smooth transition of humidity levels throughout the day.\n",
    "The largest single change in humidity was 8% within an hour.  \n",
    "Such a sharp change may be linked to a sudden shift in temperature (e.g., rapid warming or cooling).  \n",
    "\n",
    "The humidity reached its highest level of 93% during the early morning hours, a time when the temperature is typically low. This is a result of cooling overnight, where cooler air approaches its dew point, leading to near-saturation conditions.\n",
    "\n",
    "The humidity dropped to its lowest level of 71% in the afternoon, aligning with the peak temperature of the day when looking at the line plots.  \n",
    "Higher temperatures increase the air's capacity to hold water vapor, lowering the relative humidity.\n",
    "\n",
    "The humidity data seems to reflect a classic diurnal pattern, with high humidity during the early morning and a dip in the afternoon. Which may highlight the relationship between temperature and relative humidity.\n",
    "\n",
    "An average humidity of 85.58% indicates persistently moist conditions, likely due to cool temperatures, stable atmospheric pressure, and limited evaporation.\n",
    "\n",
    "The 22% range and 8% largest rate of change, suggest notable variability in humidity throughout the day, potentially driven by temperature and possibly windspeed changes.\n",
    "\n",
    "https://geoscience.blog/seasonal-variations-in-diurnal-patterns-understanding-the-atmospheric-dynamics-behind-air-quality-cycles/?utm_source=chatgpt.com"
   ]
  },
  {
   "cell_type": "markdown",
   "metadata": {},
   "source": [
    "##### Rainfall"
   ]
  },
  {
   "cell_type": "code",
   "execution_count": null,
   "metadata": {},
   "outputs": [],
   "source": [
    "rain_plot_to_show = line_plot_overview(selected_column='rainfall', dataset24=df2024)\n",
    "results = stats_single_field(dataset=df2024, field='rainfall', unit='mm')"
   ]
  },
  {
   "cell_type": "markdown",
   "metadata": {},
   "source": [
    "The maximum rainfall was 0.1 mm, recorded at 03:00. This indicates a brief, light precipitation event early in the morning, with no other significant rainfall throughout the day.\n",
    "\n",
    "For the majority of the day the rainfall was 0.0 mm, above it can be seen at 00:00, 01:00, 05:00, 06:00, 07:00, 09:00, 10:00, 11:00, 12:00, 13:00, 14:00, 15:00, 16:00, 17:00, 18:00, 19:00, 20:00, 21:00, 22:00, and 23:00  no rainfall was recorded. This indicates mainly dry conditions, with only one small rainfall event at 03:00.\n",
    "\n",
    "The average rainfall for the day was 0.01 mm which is an extremely low amount,  reinforcing the observation that rainfall throughout the day was negligible.\n",
    "\n",
    "The range was 0.1 mm (0.1 - 0.0), reflecting minimal variation in the rainfall for the day.\n",
    "The average hourly rate of change was 0.00 mm/hr. This suggesting that rainfall did not fluctuate significantly and remained at zero for 20+ hours, covering most of the day and night, which we can see is correct from the line plot and the results populated above.\n",
    "The largest single rate of change was 0.09 mm/hr, indicating a sudden but small increase in rainfall leading to the 0.1 mm peak.\n",
    "\n",
    "Rainfall only occurred at 03:00, peaking at 0.1 mm, with no rainfall recorded for the remainder of the day.  \n",
    "This suggests an isolated drizzle or very light shower in the early morning hours."
   ]
  },
  {
   "cell_type": "markdown",
   "metadata": {},
   "source": [
    "##### Pressure"
   ]
  },
  {
   "cell_type": "code",
   "execution_count": null,
   "metadata": {},
   "outputs": [],
   "source": [
    "pressure_plot_to_show = line_plot_overview(selected_column='pressure', dataset24=df2024)\n",
    "results = stats_single_field(dataset=df2024, field='pressure', unit='hPa')"
   ]
  },
  {
   "cell_type": "markdown",
   "metadata": {},
   "source": [
    "The maximum pressure recorded was 1041 hPa, occurring consistently during the evening hours at 19:00, 20:00, 21:00, 22:00, and 23:00.  \n",
    "This indicates a stabilization and dominance of high pressure as the day progressed, particularly in the evening and nighttime.\n",
    "\n",
    "The minimum pressure was 1032 hPa, recorded at 00:00 (midnight).  \n",
    "This, coupled with the visual of the line plot, shows that the pressure started relatively lower at the beginning of the day but steadily increased as the day progressed.\n",
    "\n",
    "The range was 9 hPa** (1041 - 1032), which represents moderate variability in pressure but still within the range typical of a stable high-pressure system.\n",
    "\n",
    "The mean pressure for the day was 1038.17 hPa, which is significantly high.  \n",
    "High pressure typically correlates with stable weather conditions, such as clear skies, dry air, and minimal precipitation. The average hourly rate of change in pressure was 0.39 hPa/hr, indicating a slow, steady rise throughout the day. This is furthered by the largest single rate of change (1.0 hPa/hr), which is small and suggests gradual, stable pressure changes rather than sudden atmospheric disturbances.\n",
    "\n",
    "\n",
    "The day began with the lowest pressure of 1032 hPa at 00:00 and increased gradually to the peak value of 1041 hPa by the evening (19:00 onwards).  \n",
    "This steady increase in pressure is typical of a strengthening high-pressure system, which stabilizes the atmosphere.\n",
    "\n",
    "The maximum pressure of 1041 hPa persisted for multiple consecutive hours in the evening and nighttime.  \n",
    "This sustained period of high pressure further reinforces the stability of the atmosphere late in the day.\n",
    "\n",
    "High pressure is generally associated with descending air, which suppresses cloud formation and reduces the likelihood of rainfall.  \n",
    "This aligns with the rainfall data, where 0.0 mm was recorded for most of the day, except for a small event at 03:00.  \n",
    "The combination of high pressure and dry conditions indicates stable weather with clear or fair skies.\n",
    "\n",
    "The pressure data shows a strengthening high-pressure system throughout the day, with a gradual increase from 1032 hPa at midnight to a peak of 1041 hPa in the evening. This steady increase, combined with minimal variability, indicates a calm, stable atmosphere characterized by dry and settled weather. The high-pressure dominance explains the lack of significant rainfall and supports clear or fair conditions for most of the day.\n",
    "\n",
    "\n",
    "\n",
    "https://ncas.ac.uk/learn/what-causes-weather/#:~:text=the%20earth%E2%80%99s%20temperature.-,Atmospheric%20pressure,Atmospheric%20pressure,-is%20a%20result\n",
    "https://www.rmets.org/metmatters/how-interpret-weather-chart\n",
    "http://www.bom.gov.au/australia/charts/Interpreting_MSLP.shtml\n",
    "https://www.weather.gov/source/zhu/ZHU_Training_Page/winds/pressure_winds/Pressure.htm?utm_source=chatgpt.com#:~:text=Pressure%20Gradient%20(PGF)\n",
    "https://www.weather.gov/source/zhu/ZHU_Training_Page/Miscellaneous/Divergence/divergence.html#:~:text=A%20strengthening%20high%2Dpressure%20system,in%20the%20central%20air%20columns.\n",
    "\n"
   ]
  },
  {
   "cell_type": "markdown",
   "metadata": {},
   "source": [
    "#### Comparisons with historical data recorded for previous years"
   ]
  },
  {
   "cell_type": "code",
   "execution_count": 60,
   "metadata": {},
   "outputs": [],
   "source": [
    "# setting the datasets and corresponding years\n",
    "datasets = [df2020, df2021, df2022, df2023, df2024]\n",
    "years = [2020, 2021, 2022, 2023, 2024]"
   ]
  },
  {
   "cell_type": "markdown",
   "metadata": {},
   "source": [
    "##### Temperature"
   ]
  },
  {
   "cell_type": "code",
   "execution_count": null,
   "metadata": {},
   "outputs": [],
   "source": [
    "# calling function to plot a field across the 5 years\n",
    "plot_column(datasets, column_name='temperature', labels=years)\n",
    "# calling the 'get_mean_min_max'function to compute the temperature values\n",
    "temp_results = get_mean_min_max('temperature', datasets, years, unit='°C')"
   ]
  },
  {
   "cell_type": "markdown",
   "metadata": {},
   "source": [
    "The mean temperature for the 08/12 seems to vary greatly throughout the years, which suggests the temperature may be influenced by other short-term weather conditions such as storms or cold snaps. \n",
    "\n",
    "The temperature of 2022 stands out as an outlier with the most drastic low temperatures recorded with a minimum temperature of -3.10 recorded.  \n",
    "\n",
    "This date in 2022 aligns with the lead up to a Status Yellow Ice Warning for Galway which was effective from midnight 08/12 until noon on the 09/12.  \n",
    "\n",
    "2020 has the largest range seen in the temperature with a min of -1.50 and max of 8.20 recorded, this 9.7 range suggests unstable weather with a large degree of fluctuation within the temperature field. \n",
    "\n",
    "2023 appears to have the warmest temperature recorded consistently throughout the day. \n",
    "\n",
    "There is a trend apparent across all years with the temperature peaking between 12pm - 2pm.  \n",
    "\n"
   ]
  },
  {
   "cell_type": "markdown",
   "metadata": {},
   "source": [
    "##### Windspeed"
   ]
  },
  {
   "cell_type": "code",
   "execution_count": null,
   "metadata": {},
   "outputs": [],
   "source": [
    "# calling function to plot a field across the 5 years\n",
    "plot_column(datasets, column_name='windSpeed', labels=years)\n",
    "# calling the 'get_mean_min_max'function to compute the windspeed values\n",
    "wdsp_results = get_mean_min_max('windSpeed', datasets, years, unit='kt')"
   ]
  },
  {
   "cell_type": "markdown",
   "metadata": {},
   "source": [
    "2020, records a mean windspeed of 5.71 knots, with a range of 8 knots. This may indicate that the day had a stable atmosphere with gentle breeze throughout the day. \n",
    "\n",
    "2021 in contrast has the highest mean value recorded for the years. The maximum recorded for the day (23 knots) suggest strong winds which could be a storm. This matches the information that this date in 2021 was towards the end of Storm Barra a bomb cyclone, causing string gusts of wind.  The line plot also shows that the levels start off much higher, at the max recorded for the day of 23 knots. It then steadily declines throughout the day, matching the wind down of Storm Barra. \n",
    "\n",
    "2022 appears to be the calmest of the years with low levels of windspeed recorded throughout the day, visible in the plot. In alignment with this, the mean windspeed was 3.38 knots for the day and the variability of the day ranging from 1 to 5 knots. Suggesting stable conditions with light winds. \n",
    "\n",
    "2023, shows a range of 16 knots during the day, indicating a day with strong winds similar but less intense than 2021.  \n",
    "The mean windspeed 14.17 knots with a maximum of 21 knots. \n",
    "The high windspeeds recorded matches the information of Storm Elin for which the weather warning was in place during this date in 2023.\n",
    "\n",
    "Looking at 2024 we see the windspeed is varying greatly throughout the day with drastic peaks and dips. This coincides with the tail end of Storm Darragh which hit Galway from the 6th of December to the 7th of December, with windy conditions experience after. \n",
    "\n",
    "\n",
    "\n",
    "https://www.baranidesign.com/faq-articles/2020/2/20/wind-speed-amp-barometric-pressure\n",
    "https://www.met.ie/meteorologists-commentary/storm-darragh-has-been-named-6th-7th-december-2024"
   ]
  },
  {
   "cell_type": "markdown",
   "metadata": {},
   "source": [
    "##### Humidity"
   ]
  },
  {
   "cell_type": "code",
   "execution_count": null,
   "metadata": {},
   "outputs": [],
   "source": [
    "# calling function to plot a field across the 5 years\n",
    "plot_column(datasets, column_name='humidity', labels=years)\n",
    "# calling the 'get_mean_min_max'function to compute the humidity values\n",
    "hum_results = get_mean_min_max('humidity', datasets, years, unit='%')"
   ]
  },
  {
   "cell_type": "markdown",
   "metadata": {},
   "source": [
    "The recorded mean humidity for 2021 is 69.67%, with a minimum of 54%.  \n",
    "This is relatively low considering the presence of Storm Barra on this date.  \n",
    "The storm was described as a bomb cyclone the intense rainfall and gusts typically associated with such a storm.\n",
    "\n",
    "*\"The precipitation associated with a bomb cyclone (or weather bomb) is intense, ranging from heavy downpours to strong thunderstorms to blizzards and heavy snowfalls\"*[^]\n",
    "\n",
    "While rainy conditions are typically expected during a bomb cyclone, as mentioned in the quote above, surprising there was little to no rain recorded for this date.   \n",
    "\n",
    "In contrast 2024's numbers appear much closer to 2020 and 2023's recorded numbers, showing stable but not extreme moisture levels. \n",
    "The range of humidity suggests fluctuating weather patterns,"
   ]
  },
  {
   "cell_type": "markdown",
   "metadata": {},
   "source": [
    "##### Rainfall"
   ]
  },
  {
   "cell_type": "code",
   "execution_count": null,
   "metadata": {},
   "outputs": [],
   "source": [
    "# calling function to plot a field across the 5 years\n",
    "plot_column(datasets, column_name='rainfall', labels=years)\n",
    "# calling the 'get_mean_min_max'function to compute the rainfall values\n",
    "rain_results = get_mean_min_max('rainfall', datasets, years, unit='mm')"
   ]
  },
  {
   "cell_type": "markdown",
   "metadata": {},
   "source": [
    "From the results of the plot and also seeing the mean, min and max calculated for the rainfall, we can see that the amount of rainfall in 2024 is of no significance. With 2020 & 2022 logging in with 0mm of rain.\n",
    "\n",
    "2023 stands out as an outlier with a significantly higher number for the mean rainfall at 0.80mm and a max of 4.40. \n",
    "The highest amount of rainfall recorded was at 5am UTC, with the amount of rainfall after this varying per hour. At 12pm it can be seen that the amount of rainfall recorded for the hour has dramatically dropped close to 0mm again.  \n",
    "\n",
    "When researching the 08/12/2023 to identify what factors may have impacted, it was discovered that unusual increased amount of rain coincides with the run up to Storm Elin.  \n",
    "While the peak of the effects of the storm were seen starting 09/12/2024, it is an interesting point to note that 2023, the clear outlier in terms of rainfall compared to the same date on other years, was the day before a Status Orange weather warning. "
   ]
  },
  {
   "cell_type": "markdown",
   "metadata": {},
   "source": [
    "##### Pressure"
   ]
  },
  {
   "cell_type": "code",
   "execution_count": null,
   "metadata": {},
   "outputs": [],
   "source": [
    "# calling function to plot a field across the 5 years\n",
    "plot_column(datasets, column_name='pressure', labels=years)\n",
    "# calling the 'get_mean_min_max'function to compute the pressure values\n",
    "pressure_results = get_mean_min_max('pressure', datasets, years, unit='hPa')"
   ]
  },
  {
   "cell_type": "markdown",
   "metadata": {},
   "source": [
    "2020 shows relatively stable conditions with a range of 6.7, suggesting a calm day with no major disturbances.\n",
    "\n",
    "Next is 2021, which shows the lowest level of pressure recorded at 980.20. Low pressure is typically assigned with unsettled weather. This again aligns with the information that this date in 2021 at the tail end of Storm Barra a bomb cyclone.  \n",
    "\n",
    "2022 in comparison is on the higher level of pressure recorded with a mean of 1015.75 and a narrow range of 6.6 for the day overall, suggesting fair weather for the day.\n",
    "\n",
    "2023 then records low pressure with a mean of 992.16 and a small range of 2.63. Although a small range for the day such as this may typically indicate stable weather conditions for the day, the low pressure would mean that likely the day was unsettled or story.  This is further backed by the fact that this date in 2023 was in the run up to Storm Elin.  \n",
    "\n",
    "2024 by comparison records the highest number consistently throughout the day for all of the years, indicating fair conditions for the day with a gradual increase in pressure as the day goes on."
   ]
  },
  {
   "cell_type": "markdown",
   "metadata": {},
   "source": [
    "#### Correlation coefficient\n",
    "\n",
    "Next the correlation between the variables will be compared to see if there is any patterns can be observed."
   ]
  },
  {
   "cell_type": "markdown",
   "metadata": {},
   "source": [
    "##### 2024"
   ]
  },
  {
   "cell_type": "code",
   "execution_count": null,
   "metadata": {},
   "outputs": [],
   "source": [
    "# defining the columns to be used for the heatmap of the correlation\n",
    "correlation_values = df2024[['temperature', 'humidity', 'rainfall', 'windSpeed', 'pressure']].corr()\n",
    "plt.figure(figsize=(8, 6))\n",
    "sns.heatmap(correlation_values, annot=True, cmap='coolwarm', vmin=-1, vmax=1)\n",
    "plt.title('Correlation Heatmap')\n",
    "plt.show()\n"
   ]
  },
  {
   "cell_type": "markdown",
   "metadata": {},
   "source": [
    "**Temperature & Humidity**  \n",
    "Correlation coefficient:\t-0.85  \n",
    "The correlation coefficient of -0.85 suggests a strong negative correlation between the Temperature & Humidity data. Higher temperatures are associated with lower humidity. \n",
    "\n",
    "**Temperature & Rainfall**  \t  \n",
    "Correlation coefficient     -0.18  \n",
    "Temperature & Rainfall have a weak negative correlation, indicating a slight decrease in rainfall with higher temperatures, though not strongly linked.\n",
    "\n",
    "**Temperature & Windspeed**  \n",
    "Correlation coefficient \t0.39\t\n",
    "Temperature & Windspeed have a moderate positive correlation. This suggests that stronger winds may have slightly increased temperatures.\n",
    "\n",
    "**Temperature & Pressure**\t  \n",
    "Correlation coefficient:   0.13  \n",
    "Temperature & Pressure seem to be weakly related with a correlation coefficient of 0.13. \n",
    "\n",
    "**Humidity & Rainfall**  \n",
    "Correlation\tcoefficient:   0.22\t \n",
    "The correlation coefficient of 0.22 for Humidity & Rainfall suggests higher humidity may encourage some rainfall.\n",
    "\n",
    "**Humidity & Windspeed**  \n",
    "Correlation coefficient:   -0.43  \n",
    "The moderate negative correlation between humidity & windspeed indicates that wind speeds seem to reduce humidity.\n",
    "\n",
    "**Windspeed & Pressure**  \n",
    "Correlation coefficient:   -0.21  \n",
    "The weak negative correlation between Windspeed & Pressure suggests higher winds may be linked to a slight decrease in pressure, though not strongly significant.\n"
   ]
  },
  {
   "cell_type": "code",
   "execution_count": null,
   "metadata": {},
   "outputs": [],
   "source": [
    "# Selecting the columns for the scatter plot grid\n",
    "selected_columns_2024 = df2024[['temperature', 'humidity', 'rainfall', 'windSpeed', 'pressure']]\n",
    "\n",
    "# Creating a pairplot using seaborn and defining the diagional plots where the same columns meet to display a kernel density estimation instead of histograms\n",
    "ax = sns.pairplot(selected_columns_2024, diag_kind='kde', height=1.3, corner=True)\n",
    "\n",
    "# Show the plot\n",
    "plt.show()\n"
   ]
  },
  {
   "cell_type": "markdown",
   "metadata": {},
   "source": [
    "##### Correlation coefficient throughout the years"
   ]
  },
  {
   "cell_type": "markdown",
   "metadata": {},
   "source": [
    "Next the correlation coefficient of the historical data for the remaining years will be calculated and high level analysis shared for some of the pairings."
   ]
  },
  {
   "cell_type": "code",
   "execution_count": null,
   "metadata": {},
   "outputs": [],
   "source": [
    "corr_to_calculate = ['rainfall','temperature', 'humidity', 'windSpeed', 'pressure'] \n",
    "\n",
    "# Plot correlation heatmaps for each year\n",
    "for year, dataset in zip(years, datasets): \n",
    "    if year != 2024: # skipping 2024 since it has already been plotted and discussed above\n",
    "        plt.figure(figsize=(8, 6))\n",
    "        sns.heatmap(dataset[corr_to_calculate].corr(), annot=True, fmt=\".2f\", cmap='coolwarm')\n",
    "        plt.title(f'Correlation Heatmap for {year}')\n",
    "        plt.show()\n"
   ]
  },
  {
   "cell_type": "markdown",
   "metadata": {},
   "source": [
    "\n",
    "\n",
    "**Temperature & Humidity**  \n",
    "Throughout the historical data for the previous years it can be seen that temperature and humidity consistently show a negative relationship of varying degrees. Overall, suggesting that warmer air reduces relative humidity. \n",
    "\n",
    "**Temperature & Rainfall**  \n",
    "As some years had no rainfall (0mm) throughout the entire day it is not possible to calculate the correlation coefficient for 2020 and 2022.  \n",
    "Among the years where rainfall data is available, 2021 shows the strongest correlation (-0.46) between the Temperature and Rainfall. This indicates cooler conditions are moderately linked with rainfall on this day.\n",
    "2023 and 2024 show minimal relationships, suggesting the amount of rainfall was largely independent of temperature for that date in those years.\n",
    "\n",
    "**Temperature & Windspeed**  \n",
    "Temperature and windspeed show varying degrees of correlation throughout the years suggesting a less predictable relationships. In some years there is a strong positive correlation (0.88 in 2020) indicating that when windspeeds increased the temperature also increased.  \n",
    "However, other years have minimal correlation and even weak negative correlation is seen (-0.23 in 2022).\n",
    "\n",
    "**Temperature & Pressure**  \n",
    "The correlation between Temperature & Pressure varies throughout the year ranging from moderate positive correlation to very weak positive correlation. \n",
    "2020 and 2023 for example, are examples of higher pressure correlating with warmer temperatures.\n",
    "In contrast 2021, 2022, and 2024 have much weaker relationships between the two measurements.\n",
    "\n",
    "**Humidity & Rainfall**  \n",
    "Again, as there are years where there was no rainfall recorded for the day the focus will be on the remaining years. \n",
    "For years 2021 and 2023, a moderately positive correlation (0.65 & 0.55) suggests that humid conditions may have contributed to rainfall on these days.\n",
    "2024, however, had a weaker correlation of 0.22 meaning  higher humidity had minimal effect on rainfall during that day.\n",
    "\n",
    "**Humidity & Windspeed**  \n",
    "The relationship between humidity and windspeed are primarily of negative correlation, apart from 2021 (0.08). \n",
    "The strongest correlation is observed in 2020 (-0.70), here high wind speeds significantly reduced humidity levels.\n",
    "2021 and 2023 show weak correlations (0.08, -0.08) suggests minimal impact of wind speeds on humidity. \n",
    "Both 2022 and 2024 show moderate negative relationships between Humidity & Windspeed (-0.43).\n",
    "\n",
    "**Humidity & Pressure**  \n",
    "All years bar 2022 suggests that on that date each year the correlation of Humidity and Pressure typically have a negatively skewed relationship. \n",
    "Years such as 2020 and 2023 exhibit strong relationships between high pressure and low humidity. \n",
    "2022 is an outlier in terms of the correlation, as the relationship between the two variables show a positive  correlation, suggesting the higher pressure was moderately linked to higher moisture rates."
   ]
  },
  {
   "cell_type": "markdown",
   "metadata": {},
   "source": [
    "To highlight the differences and similarity between the fields throughout the years we will plot the data for the date over the years on a single pair plot."
   ]
  },
  {
   "cell_type": "code",
   "execution_count": null,
   "metadata": {},
   "outputs": [],
   "source": [
    "# Combine data for multiple years\n",
    "df2020['Year'] = '2020'\n",
    "df2021['Year'] = '2021'\n",
    "df2022['Year'] = '2022'\n",
    "df2023['Year'] = '2023'\n",
    "df2024['Year'] = '2024'\n",
    "\n",
    "# Selecting relevant columns and combining datasets\n",
    "selected_columns = ['temperature', 'humidity', 'rainfall', 'windSpeed', 'pressure', 'Year']\n",
    "combined_df = pd.concat([df2020[selected_columns], df2021[selected_columns],\n",
    "                         df2022[selected_columns], df2023[selected_columns],\n",
    "                         df2024[selected_columns]])\n",
    "\n",
    "# Create pairplot with hue set to 'Year'\n",
    "ax = sns.pairplot(combined_df, diag_kind='kde', hue='Year', height=1.5, corner=True, markers='x')\n",
    "\n",
    "# Show the plot\n",
    "plt.show()\n"
   ]
  },
  {
   "cell_type": "markdown",
   "metadata": {},
   "source": [
    "**Temperature & Humidity**  \n",
    "From the pair plot the Temperature and Humidity correlation shows a a decline matching the negative correlations calculated in most years (e.g., 2020, 2024). On the plot, it is apparent that 2022 displays a weaker correlation between the values as the green markers are bunched together and do not have as much of a downwards trajectory compared to the markers for other years. \n",
    "\n",
    "**Temperature & Windspeed**  \n",
    "The temperature and windspeed show a slight upward trend across most years, where higher wind speeds align with higher temperatures. In contrast the marker for 2021 and 2022 show trends of minimal and even slightly negative leaning correlation.\n",
    "\n",
    "**Humidity & Windspeed**  \n",
    "Negative correlation can be seen here in most years. As windspeed increases for many of the years humidity decreases, notable in 2020, 2023 and 2024. When looking at the orange markers for 2021 we can see more scattered values suggesting a weaker relations between wind and temperature.  \n",
    "\n",
    "**Temperature & Pressure**  \n",
    "The temperature and pressure view is quite distinct compared to the other pairings as higher pressure values (2024) correspond to higher temperatures compared to low-pressure years (2021). There is also a clear separation in clusters showing the little overlap between the years compared to the other pairings highlighting the differences between high and low pressure conditions.\n",
    "\n",
    "**Windspeed & Pressure**  \n",
    "In the years with lower pressure, such as 2021 and 2023, we see a lower pressure associated with higher wind speeds. However, 2024 can be see as a clear outlier with consistently high pressure across the windspeeds.\n",
    "\n",
    "**Kernel Density Estimates**\n",
    "The KDE plots can help highlight at a quick glance which fields have more common or overlapping values from those that have less consistency throughout the years.  \n",
    "For example looking at the humidity KDE, a large amount of overlap can be seen in the KDE curve with one distinct peak for the recordings of 2020.  \n",
    "In contrast, when looking at the pressure KDE there is very little overlap in the values recorded with 2021 showing the most widespread values recorded for the pressure, the rest of the years have more clearly defined ranges and individual peaks."
   ]
  },
  {
   "cell_type": "markdown",
   "metadata": {},
   "source": [
    "https://www.rte.ie/news/weather/2023/1209/1421064-weather-warnings/\n",
    "\n",
    "https://cli.fusio.net/cli/stormcenter/season_2023_2024.html\n",
    "\n",
    "https://cli.fusio.net/cli/stormcenter/PDF/Elin.pdf\n",
    "\n",
    "https://www.met.ie/climate/available-data/monthly-data\n",
    "\n",
    "https://www.irishtimes.com/ireland/2022/12/08/cold-weather-ireland-snow-low-temperature-warning-latest/\n",
    "\n",
    "https://www.galwaydaily.com/weather/second-weather-warning-for-dangerously-icy-conditions-this-week\n",
    "\n",
    "https://www.garda.ie/en/about-us/our-departments/office-of-corporate-communications/press-releases/2021/december/weather-warning-storm-barra-7th-to-8th-december-2021.html\n",
    "\n",
    "https://en.wikipedia.org/wiki/Storm_Barra\n",
    "\n",
    "https://cli.fusio.net/cli/stormcenter/PDF/Barra.pdf\n"
   ]
  },
  {
   "cell_type": "markdown",
   "metadata": {},
   "source": [
    "## Conclusion\n",
    "\n",
    "The analysis in this notebook highlights how regional weather events, such as storms, can influence weather conditions and contribute to year-to-year variability for the 8th of December. For example, the 8th of December 2024 stands out for its calm, high-pressure conditions, minimal rainfall, and fluctuating wind speeds, likely tied to the lingering effects of Storm Darragh.\n",
    "\n",
    "When comparing 2024 to the same date over the previous four years, a clear variability in weather patterns emerges. Interestingly, storms seem to frequently coincide with this date, such as Storm Barra in 2021 and Storm Elin in 2023. This raises questions about recurring atmospheric patterns during this time of year.\n",
    "\n",
    "The use of data analysis and visualization tools, like correlation coefficients and pair plots, provided valuable insights. Consistent relationships, such as the link between temperature and humidity, were evident across all years. At the same time, other variables, like pressure, displayed more variability, offering a deeper understanding of how different factors interact over time."
   ]
  },
  {
   "cell_type": "markdown",
   "metadata": {},
   "source": [
    "\n",
    "\n",
    "***\n",
    "# End"
   ]
  },
  {
   "cell_type": "markdown",
   "metadata": {},
   "source": [
    "Author:  \n",
    "Angela Davis"
   ]
  },
  {
   "cell_type": "code",
   "execution_count": null,
   "metadata": {},
   "outputs": [],
   "source": []
  },
  {
   "cell_type": "code",
   "execution_count": null,
   "metadata": {},
   "outputs": [],
   "source": []
  },
  {
   "cell_type": "markdown",
   "metadata": {},
   "source": [
    "[^]: chrome-extension://efaidnbmnnnibpcajpcglclefindmkaj/https://cli.fusio.net/cli/stormcenter/PDF/Elin.pdf\n",
    "[^]: https://www.irishtimes.com/ireland/2022/12/08/cold-weather-ireland-snow-low-temperature-warning-latest/\n",
    "[^]: https://www.galwaydaily.com/weather/second-weather-warning-for-dangerously-icy-conditions-this-week/\n",
    "[^]: chrome-extension://efaidnbmnnnibpcajpcglclefindmkaj/https://cli.fusio.net/cli/stormcenter/PDF/Barra.pdf\n",
    "[^]: https://www.britannica.com/science/bomb-cyclone\n"
   ]
  }
 ],
 "metadata": {
  "kernelspec": {
   "display_name": "base",
   "language": "python",
   "name": "python3"
  },
  "language_info": {
   "codemirror_mode": {
    "name": "ipython",
    "version": 3
   },
   "file_extension": ".py",
   "mimetype": "text/x-python",
   "name": "python",
   "nbconvert_exporter": "python",
   "pygments_lexer": "ipython3",
   "version": "3.12.4"
  }
 },
 "nbformat": 4,
 "nbformat_minor": 2
}
